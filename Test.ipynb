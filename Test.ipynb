{
 "cells": [
  {
   "cell_type": "code",
   "execution_count": 1,
   "id": "d347d49f-28c0-45ec-b7dd-5a60e59702d9",
   "metadata": {},
   "outputs": [],
   "source": [
    "import torch\n",
    "import legacy\n",
    "import dnnlib\n",
    "import click\n",
    "from PIL import Image\n",
    "from torchvision.transforms import Compose, Resize, ToTensor, Normalize\n",
    "import torchvision.transforms.functional as TF\n",
    "import numpy as np\n",
    "\n",
    "import matplotlib.pyplot as plt\n",
    "%matplotlib inline\n",
    "import os\n",
    "os.environ[\"KMP_DUPLICATE_LIB_OK\"]=\"TRUE\""
   ]
  },
  {
   "cell_type": "code",
   "execution_count": 2,
   "id": "33948508-1942-4119-a714-a781949d1ced",
   "metadata": {},
   "outputs": [],
   "source": [
    "tf = Compose([\n",
    "  # Resize(224),\n",
    "  lambda x: torch.clamp((x+1)/2,min=0,max=1),\n",
    "])"
   ]
  },
  {
   "cell_type": "code",
   "execution_count": 3,
   "id": "921d6e08-5dea-4d12-a7ac-2d1529d36eb4",
   "metadata": {},
   "outputs": [],
   "source": [
    "network_pkl = 'https://s3.eu-central-1.amazonaws.com/avg-projects/stylegan_xl/models/imagenet512.pkl'\n",
    "device = torch.device(\"cuda:0\" if torch.cuda.is_available() else \"cpu\")\n",
    "#device = torch.device(\"cpu\")\n",
    "with dnnlib.util.open_url(network_pkl) as f:\n",
    "    G = legacy.load_network_pkl(f)['G_ema']\n",
    "    G = G.eval().requires_grad_(False).to(device)"
   ]
  },
  {
   "cell_type": "code",
   "execution_count": null,
   "id": "6c37e0b9-5f75-4552-8884-c54880441525",
   "metadata": {},
   "outputs": [
    {
     "name": "stdout",
     "output_type": "stream",
     "text": [
      "Setting up PyTorch plugin \"bias_act_plugin\"... "
     ]
    }
   ],
   "source": [
    "zs = torch.randn([1, G.mapping.z_dim], device=device)\n",
    "cs = torch.zeros([1, G.mapping.c_dim], device=device)\n",
    "cs[0][373] = 1\n",
    "w_stds1 = G.mapping(zs,cs)\n",
    "w_avg = G.mapping.w_avg\n",
    "w_avg = w_avg[cs[0].bool()]\n",
    "w_avg = w_avg.unsqueeze(1).repeat(1, G.mapping.num_ws, 1)\n",
    "w_stds1 = w_avg + (w_stds1 - w_avg) * 0.8\n",
    "\n",
    "zs = torch.randn([1, G.mapping.z_dim], device=device)\n",
    "cs = torch.zeros([1, G.mapping.c_dim], device=device)\n",
    "cs[0][1] = 1\n",
    "w_stds2 = G.mapping(zs,cs)\n",
    "w_avg = G.mapping.w_avg\n",
    "w_avg = w_avg[cs[0].bool()]\n",
    "w_avg = w_avg.unsqueeze(1).repeat(1, G.mapping.num_ws, 1)\n",
    "w_stds2 = w_avg + (w_stds2 - w_avg) * 0.8\n",
    "\n",
    "w_stds3 = (w_stds2+w_stds1)/2"
   ]
  },
  {
   "cell_type": "code",
   "execution_count": null,
   "id": "5081b249-0281-43df-ab5a-11e9507b4cc9",
   "metadata": {},
   "outputs": [],
   "source": [
    "caio = G.synthesis(w_stds1, noise_mode='const')\n",
    "display(TF.to_pil_image(tf(caio)[0]))\n",
    "caio = G.synthesis(w_stds2, noise_mode='const')\n",
    "display(TF.to_pil_image(tf(caio)[0]))\n",
    "caio = G.synthesis(w_stds3, noise_mode='const')\n",
    "display(TF.to_pil_image(tf(caio)[0]))"
   ]
  },
  {
   "cell_type": "code",
   "execution_count": null,
   "id": "59d99704-85fc-410d-b395-18108ef884bb",
   "metadata": {},
   "outputs": [],
   "source": []
  },
  {
   "cell_type": "code",
   "execution_count": null,
   "id": "ead7ed0b-8997-4426-be05-2cd25b35b0f2",
   "metadata": {},
   "outputs": [],
   "source": []
  },
  {
   "cell_type": "code",
   "execution_count": null,
   "id": "745c6678-a24e-4777-811c-208bb9844240",
   "metadata": {},
   "outputs": [],
   "source": []
  },
  {
   "cell_type": "code",
   "execution_count": null,
   "id": "b68e7938-83e3-4947-b0d1-61d8e4a84148",
   "metadata": {},
   "outputs": [],
   "source": []
  }
 ],
 "metadata": {
  "kernelspec": {
   "display_name": "Python 3 (ipykernel)",
   "language": "python",
   "name": "python3"
  },
  "language_info": {
   "codemirror_mode": {
    "name": "ipython",
    "version": 3
   },
   "file_extension": ".py",
   "mimetype": "text/x-python",
   "name": "python",
   "nbconvert_exporter": "python",
   "pygments_lexer": "ipython3",
   "version": "3.9.12"
  }
 },
 "nbformat": 4,
 "nbformat_minor": 5
}
